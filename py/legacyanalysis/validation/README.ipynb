{
 "cells": [
  {
   "cell_type": "markdown",
   "metadata": {},
   "source": [
    "Ipython Notebooks at NERSC  \n",
    "========\n",
    "\n",
    "This notebook shows you how to run on Ipython Notebook on NERSC data using NERSC's Jupyter Hub server. \n",
    "\n",
    "![BMH](https://avatars3.githubusercontent.com/u/7388996?v=3&s=200)\n",
    "![BMH](http://www.nersc.gov/themes/nersc-sass/images/logo.png)"
   ]
  },
  {
   "cell_type": "markdown",
   "metadata": {},
   "source": [
    "# Install packages from *inside* the notebook"
   ]
  },
  {
   "cell_type": "markdown",
   "metadata": {},
   "source": [
    "### Find out which anaconda executable is installed for this notebook, then run conda install or pip install as usual"
   ]
  },
  {
   "cell_type": "code",
   "execution_count": 1,
   "metadata": {
    "collapsed": false
   },
   "outputs": [
    {
     "data": {
      "text/plain": [
       "'/anaconda2/bin/python'"
      ]
     },
     "execution_count": 1,
     "metadata": {},
     "output_type": "execute_result"
    }
   ],
   "source": [
    "import sys\n",
    "sys.executable"
   ]
  },
  {
   "cell_type": "code",
   "execution_count": 6,
   "metadata": {
    "collapsed": false
   },
   "outputs": [
    {
     "name": "stdout",
     "output_type": "stream",
     "text": [
      "# packages in environment at /anaconda2:\n",
      "#\n",
      "abstract-rendering        0.5.1               np110py27_0  \n",
      "alabaster                 0.7.8                    py27_0  \n",
      "anaconda-client           1.4.0                    py27_0  \n",
      "anaconda                  custom                   py27_0  \n",
      "anaconda-navigator        1.1.1                    py27_0  \n",
      "argcomplete               1.0.0                    py27_1  \n",
      "astropy                   1.1.2               np110py27_0  \n",
      "babel                     2.3.3                    py27_0  \n",
      "backports                 1.0                      py27_0  \n",
      "backports_abc             0.4                      py27_0  \n",
      "basemap                   1.0.7               np110py27_0  \n",
      "bcolz                     1.0.0                    py27_0  \n",
      "beautiful-soup            4.3.2                    py27_0  \n",
      "beautifulsoup4            4.4.1                    py27_0  \n",
      "binstar                   0.12                          2  \n",
      "biopython                 1.67                np110py27_0  \n",
      "bitarray                  0.8.1                    py27_0  \n",
      "blaze                     0.10.1                   py27_0  \n",
      "blaze-core                0.9.0                    py27_0  \n",
      "blz                       removed                       0  \n",
      "bokeh                     0.11.1                   py27_0  \n",
      "boto                      2.40.0                   py27_0  \n",
      "bottleneck                1.0.0               np110py27_1  \n",
      "cairo                     1.12.18                       6  \n",
      "cdecimal                  2.3                      py27_2  \n",
      "certifi                   2016.2.28                py27_0  \n",
      "cffi                      1.6.0                    py27_0  \n",
      "chest                     0.2.3                    py27_0  \n",
      "click                     6.6                      py27_0  \n",
      "cloog                     0.18.0                        0  \n",
      "cloudpickle               0.2.1                    py27_0  \n",
      "clyent                    1.2.2                    py27_0  \n",
      "colorama                  0.3.7                    py27_0  \n",
      "conda                     4.1.2                    py27_0  \n",
      "conda-build               1.21.0                   py27_0  \n",
      "conda-env                 2.5.1                    py27_0  \n",
      "conda-manager             0.4.0                    py27_0  \n",
      "configobj                 5.0.6                    py27_0  \n",
      "configparser              3.5.0b2                  py27_1  \n",
      "contextlib2               0.5.3                    py27_0  \n",
      "cryptography              1.4                      py27_0  \n",
      "curl                      7.45.0                        0  \n",
      "cycler                    0.10.0                   py27_0  \n",
      "cython                    0.24                     py27_0  \n",
      "cytoolz                   0.8.0                    py27_0  \n",
      "dask                      0.10.0                   py27_0  \n",
      "datashape                 0.5.2                    py27_0  \n",
      "decorator                 4.0.10                   py27_0  \n",
      "dill                      0.2.5                    py27_0  \n",
      "docutils                  0.12                     py27_2  \n",
      "dynd-python               0.7.2                    py27_0  \n",
      "entrypoints               0.2.2                    py27_0  \n",
      "enum34                    1.1.6                    py27_0  \n",
      "et_xmlfile                1.0.1                    py27_0  \n",
      "fastcache                 1.0.2                    py27_1  \n",
      "flask                     0.11.1                   py27_0  \n",
      "flask-cors                2.1.2                    py27_0  \n",
      "fontconfig                2.11.1                        5  \n",
      "freetype                  2.5.5                         1  \n",
      "funcsigs                  1.0.2                    py27_0  \n",
      "functools32               3.2.3.2                  py27_0  \n",
      "futures                   3.0.5                    py27_0  \n",
      "geos                      3.3.3                         0  \n",
      "get_terminal_size         1.0.0                    py27_0  \n",
      "gevent                    1.1.0                    py27_0  \n",
      "gevent-websocket          0.9.5                    py27_1  \n",
      "glib                      2.43.0                        0  \n",
      "gmp                       5.1.2                         2  \n",
      "greenlet                  0.4.10                   py27_0  \n",
      "grin                      1.2.1                    py27_3  \n",
      "h5py                      2.6.0               np110py27_0  \n",
      "harfbuzz                  0.9.39                        0  \n",
      "hdf5                      1.8.15.1                      2  \n",
      "heapdict                  1.0.0                    py27_1  \n",
      "idna                      2.1                      py27_0  \n",
      "imagesize                 0.7.1                    py27_0  \n",
      "ipaddress                 1.0.16                   py27_0  \n",
      "ipykernel                 4.3.1                    py27_0  \n",
      "ipython                   4.2.0                    py27_0  \n",
      "ipython-notebook          4.0.4                    py27_0  \n",
      "ipython-qtconsole         4.0.1                    py27_0  \n",
      "ipython_genutils          0.1.0                    py27_0  \n",
      "ipywidgets                4.1.1                    py27_0  \n",
      "isl                       0.12.2                        0  \n",
      "itsdangerous              0.24                     py27_0  \n",
      "jbig                      2.1                           0  \n",
      "jdcal                     1.2                      py27_1  \n",
      "jedi                      0.9.0                    py27_1  \n",
      "jinja2                    2.8                      py27_1  \n",
      "jpeg                      8d                            0  \n",
      "jsonschema                2.5.1                    py27_0  \n",
      "jupyter                   1.0.0                    py27_3  \n",
      "jupyter_client            4.3.0                    py27_0  \n",
      "jupyter_console           4.1.1                    py27_0  \n",
      "jupyter_core              4.1.0                    py27_0  \n",
      "libdynd                   0.7.2                         0  \n",
      "libffi                    3.2.1                         0  \n",
      "libgfortran               3.0.0                         1  \n",
      "libnetcdf                 4.3.3.1                       3  \n",
      "libpng                    1.6.17                        0  \n",
      "libsodium                 1.0.10                        0  \n",
      "libtiff                   4.0.6                         2  \n",
      "libxml2                   2.9.2                         0  \n",
      "libxslt                   1.1.28                        0  \n",
      "llvm                      3.3                           0  \n",
      "llvmlite                  0.11.0                   py27_0  \n",
      "llvmpy                    0.12.7                   py27_0  \n",
      "locket                    0.2.0                    py27_1  \n",
      "lxml                      3.6.0                    py27_0  \n",
      "markupsafe                0.23                     py27_2  \n",
      "matplotlib                1.5.1               np110py27_0  \n",
      "mistune                   0.7.2                    py27_0  \n",
      "mkl                       11.3.3                        0  \n",
      "mkl-service               1.1.2                    py27_2  \n",
      "mock                      2.0.0                    py27_0  \n",
      "mpc                       1.0.1                         0  \n",
      "mpfr                      3.1.2                         0  \n",
      "mpi4py                    2.0.0                    py27_1  \n",
      "mpich2                    1.4.1p1                       0  \n",
      "mpmath                    0.19                     py27_1  \n",
      "multipledispatch          0.4.8                    py27_0  \n",
      "nbconvert                 4.2.0                    py27_0  \n",
      "nbformat                  4.0.1                    py27_0  \n",
      "ncurses                   5.9                           0  \n",
      "netcdf4                   1.2.2               np110py27_0  \n",
      "networkx                  1.11                     py27_0  \n",
      "nltk                      3.2.1                    py27_0  \n",
      "nose                      1.3.7                    py27_1  \n",
      "notebook                  4.2.1                    py27_0  \n",
      "numba                     0.26.0              np110py27_0  \n",
      "numexpr                   2.5.2               np110py27_1  \n",
      "numpy                     1.10.4                   py27_2  \n",
      "odo                       0.5.0                    py27_0  \n",
      "openblas                  0.2.14                        4  \n",
      "openpyxl                  2.3.2                    py27_0  \n",
      "openssl                   1.0.2h                        1  \n",
      "pandas                    0.18.1              np110py27_0  \n",
      "pango                     1.39.0                        0  \n",
      "partd                     0.3.4                    py27_0  \n",
      "patchelf                  0.9                           0  \n",
      "path.py                   8.2.1                    py27_0  \n",
      "pathlib2                  2.1.0                    py27_0  \n",
      "patsy                     0.4.1                    py27_0  \n",
      "pbr                       1.10.0                   py27_0  \n",
      "pcre                      8.31                          0  \n",
      "pep8                      1.7.0                    py27_0  \n",
      "pexpect                   4.0.1                    py27_0  \n",
      "pickleshare               0.7.2                    py27_0  \n",
      "pillow                    3.2.0                    py27_0  \n",
      "pip                       8.1.2                    py27_0  \n",
      "pixman                    0.32.6                        0  \n",
      "ply                       3.8                      py27_0  \n",
      "psutil                    4.3.0                    py27_0  \n",
      "ptyprocess                0.5.1                    py27_0  \n",
      "py                        1.4.31                   py27_0  \n",
      "py2cairo                  1.10.0                   py27_2  \n",
      "pyasn1                    0.1.9                    py27_0  \n",
      "pycairo                   1.10.0                   py27_0  \n",
      "pycosat                   0.6.1                    py27_1  \n",
      "pycparser                 2.14                     py27_1  \n",
      "pycrypto                  2.6.1                    py27_4  \n",
      "pycurl                    7.19.5.3                 py27_0  \n",
      "pyflakes                  1.1.0                    py27_0  \n",
      "pygments                  2.1.3                    py27_0  \n",
      "pyopenssl                 0.16.0                   py27_0  \n",
      "pyparsing                 2.0.3                    py27_0  \n",
      "pyqt                      4.11.4                   py27_3  \n",
      "pytables                  3.2.2               np110py27_1  \n",
      "pytest                    2.9.2                    py27_0  \n",
      "python                    2.7.11                        0  \n",
      "python-dateutil           2.5.3                    py27_0  \n",
      "pytz                      2016.4                   py27_0  \n",
      "pyyaml                    3.11                     py27_4  \n",
      "pyzmq                     15.2.0                   py27_1  \n",
      "qt                        4.8.7                         3  \n",
      "qtawesome                 0.3.3                    py27_0  \n",
      "qtconsole                 4.2.1                    py27_0  \n",
      "qtpy                      1.0.2                    py27_0  \n",
      "libgcc                    4.8.5                         1    r\n",
      "r                         3.2.2                         0    r\n",
      "r-base                    3.2.2                         0    r\n",
      "r-boot                    1.3_17                r3.2.2_0a    r\n",
      "r-class                   7.3_14                r3.2.2_0a    r\n",
      "r-cluster                 2.0.3                 r3.2.2_0a    r\n",
      "r-codetools               0.2_14                r3.2.2_0a    r\n",
      "r-foreign                 0.8_66                r3.2.2_0a    r\n",
      "r-kernsmooth              2.23_15               r3.2.2_0a    r\n",
      "r-lattice                 0.20_33               r3.2.2_0a    r\n",
      "r-mass                    7.3_45                r3.2.2_0a    r\n",
      "r-matrix                  1.2_2                 r3.2.2_0a    r\n",
      "r-mgcv                    1.8_9                 r3.2.2_0a    r\n",
      "r-nlme                    3.1_122               r3.2.2_0a    r\n",
      "r-nnet                    7.3_11                r3.2.2_0a    r\n",
      "r-recommended             3.2.2                  r3.2.2_0    r\n",
      "r-rpart                   4.1_10                r3.2.2_0a    r\n",
      "r-spatial                 7.3_11                r3.2.2_0a    r\n",
      "r-survival                2.38_3                r3.2.2_0a    r\n",
      "rpy2                      2.7.0              py27r3.2.2_0    r\n",
      "readline                  6.2                           2  \n",
      "redis                     3.2.0                         0  \n",
      "redis-py                  2.10.5                   py27_0  \n",
      "requests                  2.10.0                   py27_0  \n",
      "rope                      0.9.4                    py27_1  \n",
      "ruamel_yaml               0.11.7                   py27_0  \n",
      "runipy                    0.1.3                    py27_0  \n",
      "scikit-image              0.12.3              np110py27_0  \n",
      "scikit-learn              0.17.1              np110py27_1  \n",
      "scipy                     0.17.1              np110py27_0  \n",
      "setuptools                23.0.0                   py27_0  \n",
      "simplegeneric             0.8.1                    py27_1  \n",
      "singledispatch            3.4.0.3                  py27_0  \n",
      "sip                       4.16.9                   py27_0  \n",
      "six                       1.10.0                   py27_0  \n",
      "snowballstemmer           1.2.1                    py27_0  \n",
      "sockjs-tornado            1.0.3                    py27_0  \n",
      "sphinx                    1.4.1                    py27_0  \n",
      "sphinx_rtd_theme          0.1.9                    py27_0  \n",
      "spyder                    2.3.8                    py27_1  \n",
      "spyder-app                2.3.8                    py27_0  \n",
      "sqlalchemy                1.0.13                   py27_0  \n",
      "sqlite                    3.13.0                        0  \n",
      "ssl_match_hostname        3.4.0.2                  py27_1  \n",
      "statsmodels               0.6.1               np110py27_1  \n",
      "sympy                     1.0                      py27_0  \n",
      "system                    5.8                           2  \n",
      "terminado                 0.6                      py27_0  \n",
      "theano                    0.7.0               np110py27_0  \n",
      "tk                        8.5.18                        0  \n",
      "toolz                     0.8.0                    py27_0  \n",
      "tornado                   4.3                      py27_1  \n",
      "traitlets                 4.2.1                    py27_0  \n",
      "ujson                     1.35                     py27_0  \n",
      "unicodecsv                0.14.1                   py27_0  \n",
      "util-linux                2.21                          0  \n",
      "werkzeug                  0.11.10                  py27_0  \n",
      "wheel                     0.29.0                   py27_0  \n",
      "xlrd                      1.0.0                    py27_0  \n",
      "xlsxwriter                0.9.2                    py27_0  \n",
      "xlwt                      1.1.2                    py27_0  \n",
      "xz                        5.2.2                         0  \n",
      "yaml                      0.1.6                         0  \n",
      "zeromq                    4.1.4                         0  \n",
      "zlib                      1.2.8                         3  \n"
     ]
    }
   ],
   "source": [
    "!/anaconda2/bin/conda list"
   ]
  },
  {
   "cell_type": "code",
   "execution_count": null,
   "metadata": {
    "collapsed": true
   },
   "outputs": [],
   "source": [
    "#!/anaconda2/bin/pip install ...\n",
    "#!/anaconda2/bin/conda install ..."
   ]
  },
  {
   "cell_type": "markdown",
   "metadata": {},
   "source": [
    "### Add in your own code, sys.path is equivalent to PYTHONPATH in bash"
   ]
  },
  {
   "cell_type": "code",
   "execution_count": 1,
   "metadata": {
    "collapsed": false
   },
   "outputs": [
    {
     "data": {
      "text/plain": [
       "['',\n",
       " '/anaconda2/lib/python27.zip',\n",
       " '/anaconda2/lib/python2.7',\n",
       " '/anaconda2/lib/python2.7/plat-linux2',\n",
       " '/anaconda2/lib/python2.7/lib-tk',\n",
       " '/anaconda2/lib/python2.7/lib-old',\n",
       " '/anaconda2/lib/python2.7/lib-dynload',\n",
       " '/global/homes/k/kaylanb/.local/lib/python2.7/site-packages',\n",
       " '/anaconda2/lib/python2.7/site-packages',\n",
       " '/anaconda2/lib/python2.7/site-packages/Sphinx-1.4.1-py2.7.egg',\n",
       " '/anaconda2/lib/python2.7/site-packages/setuptools-23.0.0-py2.7.egg',\n",
       " '/anaconda2/lib/python2.7/site-packages/IPython/extensions',\n",
       " '/global/u2/k/kaylanb/.ipython']"
      ]
     },
     "execution_count": 1,
     "metadata": {},
     "output_type": "execute_result"
    }
   ],
   "source": [
    "sys.path"
   ]
  },
  {
   "cell_type": "code",
   "execution_count": 2,
   "metadata": {
    "collapsed": false
   },
   "outputs": [
    {
     "data": {
      "text/plain": [
       "['',\n",
       " '/anaconda2/lib/python27.zip',\n",
       " '/anaconda2/lib/python2.7',\n",
       " '/anaconda2/lib/python2.7/plat-linux2',\n",
       " '/anaconda2/lib/python2.7/lib-tk',\n",
       " '/anaconda2/lib/python2.7/lib-old',\n",
       " '/anaconda2/lib/python2.7/lib-dynload',\n",
       " '/global/homes/k/kaylanb/.local/lib/python2.7/site-packages',\n",
       " '/anaconda2/lib/python2.7/site-packages',\n",
       " '/anaconda2/lib/python2.7/site-packages/Sphinx-1.4.1-py2.7.egg',\n",
       " '/anaconda2/lib/python2.7/site-packages/setuptools-23.0.0-py2.7.egg',\n",
       " '/anaconda2/lib/python2.7/site-packages/IPython/extensions',\n",
       " '/global/u2/k/kaylanb/.ipython',\n",
       " '/project/projectdirs/desi/users/burleigh/theValidator_root/repo/legacypipe/py']"
      ]
     },
     "execution_count": 2,
     "metadata": {},
     "output_type": "execute_result"
    }
   ],
   "source": [
    "sys.path.append('/project/projectdirs/desi/users/burleigh/theValidator_root/repo/legacypipe/py')\n",
    "sys.path"
   ]
  },
  {
   "cell_type": "markdown",
   "metadata": {},
   "source": [
    "# Example"
   ]
  },
  {
   "cell_type": "code",
   "execution_count": 18,
   "metadata": {
    "collapsed": false
   },
   "outputs": [],
   "source": [
    "%matplotlib inline\n",
    "from __future__ import division, print_function\n",
    "\n",
    "import matplotlib.pyplot as plt\n",
    "import os\n",
    "import sys\n",
    "import pickle"
   ]
  }
 ],
 "metadata": {
  "kernelspec": {
   "display_name": "Python 2",
   "language": "python",
   "name": "python2"
  },
  "language_info": {
   "codemirror_mode": {
    "name": "ipython",
    "version": 2
   },
   "file_extension": ".py",
   "mimetype": "text/x-python",
   "name": "python",
   "nbconvert_exporter": "python",
   "pygments_lexer": "ipython2",
   "version": "2.7.11"
  }
 },
 "nbformat": 4,
 "nbformat_minor": 0
}
