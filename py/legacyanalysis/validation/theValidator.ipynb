{
 "cells": [
  {
   "cell_type": "markdown",
   "metadata": {},
   "source": [
    "theValidator: *the* software for validating Legacy Survey Data\n",
    "========\n",
    "\n",
    "This notebook introduces *theValidator* which is a small collection of python modules that provides any NERSC user with an easy to use interface for analyzing [Legacy Survey](http://legacysurvey.org/) data. The Github repo is [github/theValidator](https://github.com/legacysurvey/legacypipe/tree/theValidator/py/legacyanalysis/validation). You can use Dustin Lang's [Legacy Viewer](http://legacysurvey.org/viewer):\n",
    "![BMH](http://portal.nersc.gov/project/desi/users/kburleigh/legacysurvey_image.png)"
   ]
  },
  {
   "cell_type": "markdown",
   "metadata": {},
   "source": [
    "# Key Aspects\n",
    "## NERSC, Fernando Perez, and DESI members have made the tools, I've just hooked them together\n",
    "## JupyterHub uses anaconda python \n",
    "### everyone has the same environment\n",
    "### simple dependencies \n",
    "### pip install or conda install\n",
    "### no moduels from astrometry.net, tractor, legacypipe\n",
    "## Modules are: matplotlib, numpy, scipy, astropy\n",
    "### that's it!\n",
    "## Technote 2.0: Text + Code that will run in same file\n",
    "## Wiki 2.0: compare to https://desi.lbl.gov/trac/wiki/ImagingWG/ImageValidation/ValidationTests\n",
    "## Inputs backed up regularly to tape\n",
    "## Tested: stacked astropy tables vs. Dustin's fits_tables\n",
    "## Checkpoints (currently pickle files)\n",
    "## Anyone with nersc account can EASILY run each section of the validation code\n",
    "## Future\n",
    "### any validation\n",
    "#### John's new zeropoint stuff, new BassMzls to Decals comparison\n",
    "#### decals, mzls, bass\n",
    "#### healpix maps of depth, seeing, airmass, etc (Ashely Ross made some of these)\n",
    "#### psql for how use results from the neresc database\n",
    "#### cosmic rays, star galaxy separation, dchisq + PSF --> compact galaxies"
   ]
  },
  {
   "cell_type": "code",
   "execution_count": null,
   "metadata": {
    "collapsed": true
   },
   "outputs": [],
   "source": []
  }
 ],
 "metadata": {
  "kernelspec": {
   "display_name": "Python 2",
   "language": "python",
   "name": "python2"
  },
  "language_info": {
   "codemirror_mode": {
    "name": "ipython",
    "version": 2
   },
   "file_extension": ".py",
   "mimetype": "text/x-python",
   "name": "python",
   "nbconvert_exporter": "python",
   "pygments_lexer": "ipython2",
   "version": "2.7.11"
  }
 },
 "nbformat": 4,
 "nbformat_minor": 0
}
