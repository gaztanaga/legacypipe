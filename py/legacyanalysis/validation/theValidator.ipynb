{
 "cells": [
  {
   "cell_type": "markdown",
   "metadata": {},
   "source": [
    "theValidator: *the* software for validating Legacy Survey Data\n",
    "========\n",
    "\n",
    "This notebook introduces *theValidator* which is a small collection of python modules that provides any NERSC user with an easy to use interface for analyzing [Legacy Survey](http://legacysurvey.org/) data. The Github repo is [github/theValidator](https://github.com/legacysurvey/legacypipe/tree/theValidator/py/legacyanalysis/validation). You can use Dustin Lang's [Legacy Viewer](http://legacysurvey.org/viewer):\n",
    "![BMH](http://portal.nersc.gov/project/desi/users/kburleigh/legacysurvey_image.png)"
   ]
  },
  {
   "cell_type": "code",
   "execution_count": null,
   "metadata": {
    "collapsed": true
   },
   "outputs": [],
   "source": []
  }
 ],
 "metadata": {
  "kernelspec": {
   "display_name": "Python 2",
   "language": "python",
   "name": "python2"
  },
  "language_info": {
   "codemirror_mode": {
    "name": "ipython",
    "version": 2
   },
   "file_extension": ".py",
   "mimetype": "text/x-python",
   "name": "python",
   "nbconvert_exporter": "python",
   "pygments_lexer": "ipython2",
   "version": "2.7.11"
  }
 },
 "nbformat": 4,
 "nbformat_minor": 0
}
