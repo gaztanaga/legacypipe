{
 "cells": [
  {
   "cell_type": "code",
   "execution_count": null,
   "metadata": {
    "collapsed": true
   },
   "outputs": [],
   "source": []
  },
  {
   "cell_type": "code",
   "execution_count": 127,
   "metadata": {
    "collapsed": false
   },
   "outputs": [],
   "source": [
    "%matplotlib inline\n",
    "from matplotlib.patches import Ellipse\n",
    "import matplotlib.pyplot as plt\n",
    "from astropy.io import fits\n",
    "import numpy as np"
   ]
  },
  {
   "cell_type": "code",
   "execution_count": 34,
   "metadata": {
    "collapsed": true
   },
   "outputs": [],
   "source": [
    "img=fits.open('PTF_201101245111_i_p_scie_t121602_u009806956_f02_p002845_c10.fits')\n"
   ]
  },
  {
   "cell_type": "code",
   "execution_count": 158,
   "metadata": {
    "collapsed": false
   },
   "outputs": [
    {
     "ename": "TypeError",
     "evalue": "'Ellipse' object does not support indexing",
     "output_type": "error",
     "traceback": [
      "\u001b[0;31m---------------------------------------------------------------------------\u001b[0m",
      "\u001b[0;31mTypeError\u001b[0m                                 Traceback (most recent call last)",
      "\u001b[0;32m<ipython-input-158-183fc6c73d08>\u001b[0m in \u001b[0;36m<module>\u001b[0;34m()\u001b[0m\n\u001b[0;32m----> 1\u001b[0;31m \u001b[0mells\u001b[0m\u001b[0;34m[\u001b[0m\u001b[0;36m0\u001b[0m\u001b[0;34m]\u001b[0m\u001b[0;34m[\u001b[0m\u001b[0;36m0\u001b[0m\u001b[0;34m]\u001b[0m\u001b[0;34m\u001b[0m\u001b[0m\n\u001b[0m",
      "\u001b[0;31mTypeError\u001b[0m: 'Ellipse' object does not support indexing"
     ]
    }
   ],
   "source": []
  },
  {
   "cell_type": "code",
   "execution_count": 168,
   "metadata": {
    "collapsed": false
   },
   "outputs": [
    {
     "ename": "TypeError",
     "evalue": "unsupported operand type(s) for /: 'tuple' and 'int'",
     "output_type": "error",
     "traceback": [
      "\u001b[0;31m---------------------------------------------------------------------------\u001b[0m",
      "\u001b[0;31mTypeError\u001b[0m                                 Traceback (most recent call last)",
      "\u001b[0;32m<ipython-input-168-fc42d17d5772>\u001b[0m in \u001b[0;36m<module>\u001b[0;34m()\u001b[0m\n\u001b[1;32m      1\u001b[0m \u001b[0ma\u001b[0m\u001b[0;34m=\u001b[0m\u001b[0;34m(\u001b[0m\u001b[0;36m2\u001b[0m\u001b[0;34m,\u001b[0m\u001b[0;36m4\u001b[0m\u001b[0;34m)\u001b[0m\u001b[0;34m\u001b[0m\u001b[0m\n\u001b[0;32m----> 2\u001b[0;31m \u001b[0ma\u001b[0m\u001b[0;34m/\u001b[0m\u001b[0;36m2\u001b[0m\u001b[0;34m\u001b[0m\u001b[0m\n\u001b[0m",
      "\u001b[0;31mTypeError\u001b[0m: unsupported operand type(s) for /: 'tuple' and 'int'"
     ]
    }
   ],
   "source": [
    "a=(2,4)\n",
    "a/2"
   ]
  },
  {
   "cell_type": "code",
   "execution_count": 173,
   "metadata": {
    "collapsed": false
   },
   "outputs": [
    {
     "name": "stdout",
     "output_type": "stream",
     "text": [
      " x,y,a,b,theta=  344.188027758 64.4298485089 7.15905 5.3293 58.1247\n",
      "x,y,a,b,theta=  1654.27595481 36.11065737 0.819824 0.803075 60.0027\n",
      "x,y,a,b,theta=  243.494947516 20.2888180661 1.36051 1.1425 -89.121\n",
      "x,y,a,b,theta=  570.497561814 24.7168936403 0.830906 0.821743 55.6669\n",
      "x,y,a,b,theta=  1321.32870041 19.8280674451 0.794885 0.786354 -28.1439\n",
      "x,y,a,b,theta=  938.210815308 18.1331187414 0.826994 0.811763 -76.2985\n",
      "x,y,a,b,theta=  1196.72111983 15.45103187 1.48329 1.13319 -25.2154\n",
      "x,y,a,b,theta=  1354.14698859 13.6311537669 1.0102 0.848858 88.6795\n",
      "x,y,a,b,theta=  1756.6496636 12.1815218775 0.86271 0.743905 -17.8768\n",
      "x,y,a,b,theta=  519.693679046 6.79971139285 0.815433 0.80935 -84.7978\n",
      "cx,cy=  2048.0 1024.0 wh=  200\n"
     ]
    },
    {
     "data": {
      "image/png": "[encoded data removed]",
      "text/plain": [
       "<matplotlib.figure.Figure at 0x11483c1d0>"
      ]
     },
     "metadata": {},
     "output_type": "display_data"
    }
   ],
   "source": [
    "# def plot_image(ax,imgfn):\n",
    "#     a=fits.open(imgfn)\n",
    "#     img=a[0].data.shape\n",
    "#     for i in len(ax): plt.imshow(img,cmap=plt.get_cmap('gray'))\n",
    "\n",
    "def plot_se(imgfn,se_cat_fn,wh=200):\n",
    "    #image\n",
    "    a=fits.open(imgfn)\n",
    "    img=a[0].data\n",
    "    cx,cy= img.shape[0]/2.,img.shape[1]/2.\n",
    "    #se catalogue\n",
    "    a=fits.open(se_cat_fn)\n",
    "    a2=a[2].data\n",
    "    cols= a[2].columns\n",
    "    ells=[]\n",
    "    cnt=0\n",
    "    for x,y,a,b,theta in zip(a2['XWIN_IMAGE'],a2['YWIN_IMAGE'],\\\n",
    "                a2['AWIN_IMAGE'],a2['BWIN_IMAGE'],a2['THETAWIN_IMAGE']):\n",
    "        cnt+=1\n",
    "        if cnt <= 10: print \"x,y,a,b,theta= \",x,y,a,b,theta\n",
    "        ells.append(Ellipse(xy=[x,y], width=2*a, height=2*b, angle=theta))\n",
    "#     ells = [Ellipse(xy=[x,y], width=2*a, height=2*b, angle=theta)\n",
    "#         for x,y,a,b,theta in zip(a2['XWIN_IMAGE'],a2['YWIN_IMAGE'],\\\n",
    "#                 a2['AWIN_IMAGE'],a2['BWIN_IMAGE'],a2['THETAWIN_IMAGE'])]\n",
    "    fig,ax = plt.subplots()\n",
    "    for e in ells:\n",
    "        ax.add_artist(e)\n",
    "#         e.set_clip_box(ax.bbox)\n",
    "        e.set_alpha(0.25)\n",
    "        e.set_facecolor('b')\n",
    "    print 'cx,cy= ',cx,cy,'wh= ',wh\n",
    "    ax.set_xlim(cx-wh/2.,cx+wh/2.)\n",
    "    ax.set_ylim(cy-wh/2.,cy+wh/2.)\n",
    "    plt.show()\n",
    "        \n",
    "plot_se('PTF_201101245111_i_p_scie_t121602_u009806956_f02_p002845_c10.fits','se_cat3.fits')\n"
   ]
  },
  {
   "cell_type": "code",
   "execution_count": 72,
   "metadata": {
    "collapsed": false
   },
   "outputs": [
    {
     "name": "stdout",
     "output_type": "stream",
     "text": [
      "Filename: psfex_cat.fits\n",
      "No.    Name         Type      Cards   Dimensions   Format\n",
      "0    PRIMARY     PrimaryHDU       4   ()              \n",
      "1    PSF_DATA    BinTableHDU     32   1R x 1C      [1350E]   \n"
     ]
    }
   ],
   "source": [
    "a=fits.open('psfex_cat.fits')\n",
    "a.info()\n",
    "dat=a[1].data\n",
    "hd=a[1].header\n"
   ]
  },
  {
   "cell_type": "code",
   "execution_count": 95,
   "metadata": {
    "collapsed": false
   },
   "outputs": [
    {
     "ename": "IndexError",
     "evalue": "index 1 is out of bounds for axis 0 with size 1",
     "output_type": "error",
     "traceback": [
      "\u001b[0;31m---------------------------------------------------------------------------\u001b[0m",
      "\u001b[0;31mIndexError\u001b[0m                                Traceback (most recent call last)",
      "\u001b[0;32m<ipython-input-95-9a34fad59ed2>\u001b[0m in \u001b[0;36m<module>\u001b[0;34m()\u001b[0m\n\u001b[0;32m----> 1\u001b[0;31m \u001b[0ma\u001b[0m\u001b[0;34m[\u001b[0m\u001b[0;36m1\u001b[0m\u001b[0;34m]\u001b[0m\u001b[0;34m.\u001b[0m\u001b[0mheader\u001b[0m\u001b[0;34m\u001b[0m\u001b[0m\n\u001b[0m\u001b[1;32m      2\u001b[0m \u001b[0mpf\u001b[0m \u001b[0;34m=\u001b[0m \u001b[0mfits\u001b[0m\u001b[0;34m.\u001b[0m\u001b[0mopen\u001b[0m\u001b[0;34m(\u001b[0m\u001b[0;34m'psfex_cat.fits'\u001b[0m\u001b[0;34m,\u001b[0m \u001b[0mmemmap\u001b[0m\u001b[0;34m=\u001b[0m\u001b[0mTrue\u001b[0m\u001b[0;34m)\u001b[0m\u001b[0;34m\u001b[0m\u001b[0m\n\u001b[1;32m      3\u001b[0m \u001b[0mdata\u001b[0m \u001b[0;34m=\u001b[0m \u001b[0mpf\u001b[0m\u001b[0;34m[\u001b[0m\u001b[0;36m1\u001b[0m\u001b[0;34m]\u001b[0m\u001b[0;34m.\u001b[0m\u001b[0mdata\u001b[0m\u001b[0;34m\u001b[0m\u001b[0m\n\u001b[1;32m      4\u001b[0m \u001b[0mhdr\u001b[0m \u001b[0;34m=\u001b[0m \u001b[0mpf\u001b[0m\u001b[0;34m[\u001b[0m\u001b[0;36m1\u001b[0m\u001b[0;34m]\u001b[0m\u001b[0;34m.\u001b[0m\u001b[0mheader\u001b[0m\u001b[0;34m\u001b[0m\u001b[0m\n\u001b[1;32m      5\u001b[0m \u001b[0;31m# data['psf_mask'\u001b[0m\u001b[0;34m\u001b[0m\u001b[0;34m\u001b[0m\u001b[0m\n",
      "\u001b[0;31mIndexError\u001b[0m: index 1 is out of bounds for axis 0 with size 1"
     ]
    }
   ],
   "source": [
    "a[1].header\n",
    "pf = fits.open('psfex_cat.fits', memmap=True)\n",
    "data = pf[1].data\n",
    "hdr = pf[1].header\n",
    "# data['psf_mask'\n",
    "hdr"
   ]
  },
  {
   "cell_type": "code",
   "execution_count": 107,
   "metadata": {
    "collapsed": false
   },
   "outputs": [
    {
     "data": {
      "text/plain": [
       "2"
      ]
     },
     "execution_count": 107,
     "metadata": {},
     "output_type": "execute_result"
    }
   ],
   "source": [
    "data['PSF_MASK'][0]\n",
    "hdr['POLDEG1'] #.strip() #== 'X_IMAGE'"
   ]
  },
  {
   "cell_type": "code",
   "execution_count": 94,
   "metadata": {
    "collapsed": false
   },
   "outputs": [
    {
     "name": "stdout",
     "output_type": "stream",
     "text": [
      "ColDefs(\n",
      "    name = 'PSF_MASK'; format = '1350E'; dim = '(15, 15, 6)'\n",
      ")\n",
      "1024.89043617 2043.35246277\n"
     ]
    }
   ],
   "source": [
    "print dat.columns\n",
    "ims=dat['PSF_MASK']\n",
    "print hdr.get('POLZERO1'),hdr.get('POLZERO2')"
   ]
  },
  {
   "cell_type": "code",
   "execution_count": 100,
   "metadata": {
    "collapsed": false
   },
   "outputs": [
    {
     "ename": "AttributeError",
     "evalue": "'FITS_record' object has no attribute 'shape'",
     "output_type": "error",
     "traceback": [
      "\u001b[0;31m---------------------------------------------------------------------------\u001b[0m",
      "\u001b[0;31mAttributeError\u001b[0m                            Traceback (most recent call last)",
      "\u001b[0;32m<ipython-input-100-18f5e8de4ed9>\u001b[0m in \u001b[0;36m<module>\u001b[0;34m()\u001b[0m\n\u001b[0;32m----> 1\u001b[0;31m \u001b[0mdata\u001b[0m\u001b[0;34m[\u001b[0m\u001b[0;36m0\u001b[0m\u001b[0;34m]\u001b[0m\u001b[0;34m.\u001b[0m\u001b[0mshape\u001b[0m\u001b[0;34m\u001b[0m\u001b[0m\n\u001b[0m",
      "\u001b[0;31mAttributeError\u001b[0m: 'FITS_record' object has no attribute 'shape'"
     ]
    }
   ],
   "source": [
    "data[0].shape"
   ]
  },
  {
   "cell_type": "code",
   "execution_count": 123,
   "metadata": {
    "collapsed": false
   },
   "outputs": [
    {
     "data": {
      "text/plain": [
       "XTENSION= 'BINTABLE'           / THIS IS A BINARY TABLE (FROM THE LDACTOOLS)    \n",
       "BITPIX  =                    8 /                                                \n",
       "NAXIS   =                    2 /                                                \n",
       "NAXIS1  =                 5400 / BYTES PER ROW                                  \n",
       "NAXIS2  =                    1 / NUMBER OF ROWS                                 \n",
       "PCOUNT  =                    0 / RANDOM PARAMETER COUNT                         \n",
       "GCOUNT  =                    1 / GROUP COUNT                                    \n",
       "TFIELDS =                    1 / FIELDS PER ROWS                                \n",
       "EXTNAME = 'PSF_DATA'           / TABLE NAME                                     \n",
       "LOADED  =                  715 / Number of loaded sources                       \n",
       "ACCEPTED=                  681 / Number of accepted sources                     \n",
       "CHI2    =           1.07953318 / Final Chi2                                     \n",
       "POLNAXIS=                    2 / Number of context parameters                   \n",
       "POLGRP1 =                    1 / Polynom group for this context parameter       \n",
       "POLNAME1= 'X_IMAGE '           / Name of this context parameter                 \n",
       "POLZERO1=   1.024890436172E+03 / Offset value for this context parameter        \n",
       "POLSCAL1=   2.020787731171E+03 / Scale value for this context parameter         \n",
       "POLGRP2 =                    1 / Polynom group for this context parameter       \n",
       "POLNAME2= 'Y_IMAGE '           / Name of this context parameter                 \n",
       "POLZERO2=   2.043352462769E+03 / Offset value for this context parameter        \n",
       "POLSCAL2=   4.050573883057E+03 / Scale value for this context parameter         \n",
       "POLNGRP =                    1 / Number of context groups                       \n",
       "POLDEG1 =                    2 / Polynom degree for this context group          \n",
       "PSF_FWHM=           2.89710283 / PSF FWHM                                       \n",
       "PSF_SAMP=           1.00000000 / Sampling step of the PSF data                  \n",
       "PSFNAXIS=                    3 / Dimensionality of the PSF data                 \n",
       "PSFAXIS1=                   15 / Number of element along this axis              \n",
       "PSFAXIS2=                   15 / Number of element along this axis              \n",
       "PSFAXIS3=                    6 / Number of element along this axis              \n",
       "TTYPE1  = 'PSF_MASK'           / Tabulated PSF data                             \n",
       "TFORM1  = '1350E   '                                                            \n",
       "TDIM1   = '(15, 15, 6)'                                                         "
      ]
     },
     "execution_count": 123,
     "metadata": {},
     "output_type": "execute_result"
    }
   ],
   "source": [
    "a=fits.open('psfex_cat.fits', memmap=True)\n",
    "pf[1].header"
   ]
  },
  {
   "cell_type": "code",
   "execution_count": 125,
   "metadata": {
    "collapsed": false
   },
   "outputs": [
    {
     "data": {
      "image/png": "[encoded data removed]",
      "text/plain": [
       "<matplotlib.figure.Figure at 0x10c172610>"
      ]
     },
     "metadata": {},
     "output_type": "display_data"
    }
   ],
   "source": [
    "def psf_basis(psfexfn):\n",
    "    pf = fits.open(psfexfn, memmap=True)\n",
    "    data = pf[1].data['PSF_MASK']\n",
    "    data=data[0]\n",
    "    hdr = pf[1].header\n",
    "    plt.subplots_adjust(hspace=0, wspace=0)\n",
    "    rows,cols=2,3\n",
    "    ima = dict(interpolation='nearest', origin='lower')\n",
    "    for i in range(data.shape[0]): \n",
    "        plt.subplot(rows, cols, i+1)\n",
    "        plt.imshow(data[i,:,:], cmap=plt.get_cmap('gray'),**ima)\n",
    "psf_basis('psfex_cat.fits')"
   ]
  },
  {
   "cell_type": "code",
   "execution_count": null,
   "metadata": {
    "collapsed": true
   },
   "outputs": [],
   "source": [
    "def psf_grid(psfexfn):\n",
    "    pf = fits.open(psfexfn, memmap=True)\n",
    "    data = pf[1].data['PSF_MASK']\n",
    "    data=data[0]\n",
    "    hdr = pf[1].header\n",
    "    plt.subplots_adjust(hspace=0, wspace=0)\n",
    "    rows,cols=2,3\n",
    "    ima = dict(interpolation='nearest', origin='lower')\n",
    "    for i in range(data.shape[0]): \n",
    "        plt.subplot(rows, cols, i+1)\n",
    "        plt.imshow(data[i,:,:], cmap=plt.get_cmap('gray'),**ima)\n",
    "psf_grid('psfex_cat.fits')\n",
    "\n",
    "def plot_grid(psf, xx, yy, term=None, stampsize=None, **kwargs):\n",
    "\n",
    "    nil,xpows,ypows = psf.polynomials(0., 0., powers=True)\n",
    "    plt.clf()\n",
    "    i = 1\n",
    "    for y in yy:\n",
    "        for x in xx:\n",
    "            psf = None\n",
    "            for ip,(xp,yp) in enumerate(zip(xpows, ypows)):\n",
    "                if term is not None and term != ip:\n",
    "                    continue\n",
    "                poly = psf.polynomials(x, y)\n",
    "                thispsf = poly[ip] * psf.psfbases[ip,:,:]\n",
    "                if psf is None:\n",
    "                    psf = thispsf\n",
    "                else:\n",
    "                    psf += thispsf\n",
    "            plt.subplot(len(yy), len(xx), i)\n",
    "            i = i + 1\n",
    "            if cut > 0:\n",
    "                psf = psf[cut:-cut, cut:-cut]\n",
    "            plt.imshow(psf, **ima)\n",
    "            plt.xticks([]); plt.yticks([])\n",
    "    if term is not None:\n",
    "        plt.suptitle('PSF component for x^%i y^%i' % (xpows[term], ypows[term]))"
   ]
  },
  {
   "cell_type": "code",
   "execution_count": 131,
   "metadata": {
    "collapsed": false
   },
   "outputs": [
    {
     "name": "stdout",
     "output_type": "stream",
     "text": [
      "('Got', (6, 15, 15), 'PSF images')\n",
      "('PsfEx sampling:', 1.0)\n",
      "('PsfEx degree:', 2)\n"
     ]
    },
    {
     "data": {
      "image/png": "[encoded data removed]",
      "text/plain": [
       "<matplotlib.figure.Figure at 0x1113df4d0>"
      ]
     },
     "metadata": {},
     "output_type": "display_data"
    }
   ],
   "source": [
    "class KaylanPsfex(object):\n",
    "    '''\n",
    "    An object representing a PsfEx PSF model.\n",
    "    '''\n",
    "    def __init__(self, psfexfn):\n",
    "        pf = fits.open(psfexfn, memmap=True)\n",
    "        ims = pf[1].data['PSF_MASK']\n",
    "        ims=ims[0]\n",
    "        hdr = pf[1].header\n",
    "        print('Got', ims.shape, 'PSF images')\n",
    "        # PSF distortion bases are polynomials of x,y\n",
    "        assert(hdr['POLNAME1'].strip() == 'X_IMAGE')\n",
    "        assert(hdr['POLNAME2'].strip() == 'Y_IMAGE')\n",
    "        assert(hdr['POLGRP1'] == 1)\n",
    "        assert(hdr['POLGRP2'] == 1)\n",
    "        assert(hdr['POLNGRP' ] == 1)\n",
    "        x0     = hdr.get('POLZERO1')\n",
    "        xscale = hdr.get('POLSCAL1')\n",
    "        y0     = hdr.get('POLZERO2')\n",
    "        yscale = hdr.get('POLSCAL2')\n",
    "        degree = hdr.get('POLDEG1')\n",
    "        self.sampling = hdr.get('PSF_SAMP')\n",
    "        print('PsfEx sampling:', self.sampling)\n",
    "        # number of terms in polynomial\n",
    "        ne = (degree + 1) * (degree + 2) / 2\n",
    "        assert(hdr['PSFAXIS3'] == ne)\n",
    "        assert(len(ims.shape) == 3)\n",
    "        assert(ims.shape[0] == ne)\n",
    "        self.psfbases = ims\n",
    "        self.xscale, self.yscale = xscale, yscale\n",
    "        self.degree = degree\n",
    "        print('PsfEx degree:', self.degree)\n",
    "        bh,bw = self.psfbases[0].shape\n",
    "        self.radius = (bh+1)/2.\n",
    "        self.x0,self.y0 = x0,y0\n",
    "\n",
    "    def polynomials(self, x, y, powers=False):\n",
    "        dx = (x - self.x0) / self.xscale\n",
    "        dy = (y - self.y0) / self.yscale\n",
    "        nb,h,w = self.psfbases.shape\n",
    "        terms = np.zeros(nb)\n",
    "\n",
    "        if powers:\n",
    "            xpows = np.zeros(nb, int)\n",
    "            ypows = np.zeros(nb, int)\n",
    "\n",
    "        for d in range(self.degree + 1):\n",
    "            # x polynomial degree = j\n",
    "            # y polynomial degree = k\n",
    "            for j in range(d+1):\n",
    "                k = d - j\n",
    "                amp = dx**j * dy**k\n",
    "                # PSFEx manual pg. 111 ?\n",
    "                ii = j + (self.degree+1) * k - (k * (k-1))/ 2\n",
    "                #print('getPolynomialTerms: j=', j, 'k=', k, 'd=', d, 'ii=', ii)\n",
    "                # It goes: order 0, order 1, order 2, ...\n",
    "                # and then j=0, j=1, ...\n",
    "                terms[ii] = amp\n",
    "                if powers:\n",
    "                    xpows[ii] = j\n",
    "                    ypows[ii] = k\n",
    "        if powers:\n",
    "            return (terms, xpows, ypows)\n",
    "        return terms\n",
    "\n",
    "    def at(self, x, y, nativeScale=True):\n",
    "        '''\n",
    "        Returns an image of the PSF at the given pixel coordinates.\n",
    "        '''\n",
    "        psf = np.zeros_like(self.psfbases[0])\n",
    "\n",
    "        #print('Evaluating PsfEx at', x,y)\n",
    "        for term,base in zip(self.polynomials(x,y), self.psfbases):\n",
    "            #print('  polynomial', term, 'x base w/ range', base.min(), base.max())\n",
    "            psf += term * base\n",
    "\n",
    "        if nativeScale and self.sampling != 1:\n",
    "            from scipy.ndimage.interpolation import affine_transform\n",
    "            ny,nx = psf.shape\n",
    "            spsf = affine_transform(psf, [1./self.sampling]*2,\n",
    "                                    offset=nx/2 * (self.sampling - 1.))\n",
    "            return spsf\n",
    "            \n",
    "        return psf\n",
    "\n",
    "\n",
    "    def plot_bases(self, autoscale=True, stampsize=None):\n",
    "        '''6 panel plot of the 6 psfex basis vectors'''\n",
    "        N = len(self.psfbases)\n",
    "        cols = int(np.ceil(np.sqrt(N)))\n",
    "        rows = int(np.ceil(N / float(cols)))\n",
    "        plt.clf()\n",
    "        plt.subplots_adjust(hspace=0, wspace=0)\n",
    "\n",
    "        cut = 0\n",
    "        if stampsize is not None:\n",
    "            H,W = self.shape\n",
    "            assert(H == W)\n",
    "            cut = max(0, (H - stampsize) / 2)\n",
    "\n",
    "        ima = dict(interpolation='nearest', origin='lower',\n",
    "                  cmap=plt.get_cmap('gray'))\n",
    "        if autoscale:\n",
    "            mx = self.psfbases.max()\n",
    "            ima.update(vmin=-mx, vmax=mx)\n",
    "        nil, xpows, ypows = self.polynomials(0., 0., powers=True)\n",
    "        for i,(xp,yp,b) in enumerate(zip(xpows, ypows, self.psfbases)):\n",
    "            plt.subplot(rows, cols, i+1)\n",
    "\n",
    "            if cut > 0:\n",
    "                b = b[cut:-cut, cut:-cut]\n",
    "            if autoscale:\n",
    "                plt.imshow(b, **ima)\n",
    "            else:\n",
    "                mx = np.abs(b).max()\n",
    "                plt.imshow(b, vmin=-mx, vmax=mx, **ima)\n",
    "            plt.xticks([])\n",
    "            plt.yticks([])\n",
    "            plt.title('x^%i y^%i' % (xp,yp))\n",
    "        plt.suptitle('PsfEx eigen-bases')\n",
    "\n",
    "    def plot_at(self, autoscale=True, stampsize=None):\n",
    "        ''''''\n",
    "        N = len(self.psfbases)\n",
    "        cols = int(np.ceil(np.sqrt(N)))\n",
    "        rows = int(np.ceil(N / float(cols)))\n",
    "        plt.clf()\n",
    "        plt.subplots_adjust(hspace=0, wspace=0)\n",
    "\n",
    "        cut = 0\n",
    "        if stampsize is not None:\n",
    "            H,W = self.shape\n",
    "            assert(H == W)\n",
    "            cut = max(0, (H - stampsize) / 2)\n",
    "\n",
    "        ima = dict(interpolation='nearest', origin='lower',\n",
    "                  cmap=plt.get_cmap('gray'))\n",
    "        if autoscale:\n",
    "            mx = self.psfbases.max()\n",
    "            ima.update(vmin=-mx, vmax=mx)\n",
    "        nil, xpows, ypows = self.polynomials(0., 0., powers=True)\n",
    "        for i,(xp,yp,b) in enumerate(zip(xpows, ypows, self.psfbases)):\n",
    "            plt.subplot(rows, cols, i+1)\n",
    "\n",
    "            if cut > 0:\n",
    "                b = b[cut:-cut, cut:-cut]\n",
    "            if autoscale:\n",
    "                plt.imshow(b, **ima)\n",
    "            else:\n",
    "                mx = np.abs(b).max()\n",
    "                plt.imshow(b, vmin=-mx, vmax=mx, **ima)\n",
    "            plt.xticks([])\n",
    "            plt.yticks([])\n",
    "            plt.title('x^%i y^%i' % (xp,yp))\n",
    "        plt.suptitle('PsfEx eigen-bases')\n",
    "psf=KaylanPsfex('psfex_cat.fits')\n",
    "psf.plot_bases()"
   ]
  },
  {
   "cell_type": "code",
   "execution_count": 132,
   "metadata": {
    "collapsed": false
   },
   "outputs": [
    {
     "data": {
      "image/png": "[encoded data removed]",
      "text/plain": [
       "<matplotlib.figure.Figure at 0x10c11c350>"
      ]
     },
     "metadata": {},
     "output_type": "display_data"
    }
   ],
   "source": [
    "psf.plot_grid(range(10),range(10))"
   ]
  },
  {
   "cell_type": "code",
   "execution_count": 143,
   "metadata": {
    "collapsed": false
   },
   "outputs": [
    {
     "data": {
      "text/plain": [
       "<matplotlib.image.AxesImage at 0x10e40a350>"
      ]
     },
     "execution_count": 143,
     "metadata": {},
     "output_type": "execute_result"
    },
    {
     "data": {
      "image/png": "[encoded data removed]",
      "text/plain": [
       "<matplotlib.figure.Figure at 0x10c5f9bd0>"
      ]
     },
     "metadata": {},
     "output_type": "display_data"
    }
   ],
   "source": [
    "plt.imshow(psf.at(120,1024),cmap=plt.get_cmap('gray'))"
   ]
  },
  {
   "cell_type": "code",
   "execution_count": 145,
   "metadata": {
    "collapsed": false
   },
   "outputs": [
    {
     "data": {
      "text/plain": [
       "<matplotlib.image.AxesImage at 0x10e65fa50>"
      ]
     },
     "execution_count": 145,
     "metadata": {},
     "output_type": "execute_result"
    },
    {
     "data": {
      "image/png": "[encoded data removed]",
      "text/plain": [
       "<matplotlib.figure.Figure at 0x10e614b10>"
      ]
     },
     "metadata": {},
     "output_type": "display_data"
    }
   ],
   "source": [
    "a=fits.open('PTF_201101245111_i_p_scie_t121602_u009806956_f02_p002845_c10.fits')\n",
    "plt.imshow(a[0].data[0:256,0:256],cmap=plt.get_cmap('gray'))"
   ]
  },
  {
   "cell_type": "code",
   "execution_count": null,
   "metadata": {
    "collapsed": true
   },
   "outputs": [],
   "source": []
  }
 ],
 "metadata": {
  "kernelspec": {
   "display_name": "Python 2",
   "language": "python",
   "name": "python2"
  },
  "language_info": {
   "codemirror_mode": {
    "name": "ipython",
    "version": 2
   },
   "file_extension": ".py",
   "mimetype": "text/x-python",
   "name": "python",
   "nbconvert_exporter": "python",
   "pygments_lexer": "ipython2",
   "version": "2.7.10"
  }
 },
 "nbformat": 4,
 "nbformat_minor": 0
}
